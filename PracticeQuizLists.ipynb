{
 "cells": [
  {
   "attachments": {},
   "cell_type": "markdown",
   "metadata": {},
   "source": [
    "Fill in the blank using any of the methods you’ve learned thus far, like a for loop or a list comprehension. With the given list of \"filenames\", this code should rename all files with the extension .hpp to the extension .h. The function should then generate a new list called \"newfilenames\" that contains the file names with the new extension. "
   ]
  },
  {
   "cell_type": "code",
   "execution_count": 1,
   "metadata": {},
   "outputs": [
    {
     "name": "stdout",
     "output_type": "stream",
     "text": [
      "['program.c', 'stdio.h', 'sample.h', 'a.out', 'math.h', 'hpp.out']\n"
     ]
    }
   ],
   "source": [
    "filenames = [\"program.c\", \"stdio.hpp\", \"sample.hpp\", \"a.out\", \"math.hpp\", \"hpp.out\"]\n",
    "# Generate newfilenames as a list containing the new filenames\n",
    "# using as many lines of code as your chosen method requires.\n",
    "newfilenames = [filename.replace('.hpp', '.h') if filename.endswith('.hpp') else filename for filename in filenames]\n",
    " \n",
    "\n",
    "print(newfilenames) \n",
    "# Should be [\"program.c\", \"stdio.h\", \"sample.h\", \"a.out\", \"math.h\", \"hpp.out\"]"
   ]
  },
  {
   "attachments": {},
   "cell_type": "markdown",
   "metadata": {},
   "source": [
    "Create a function that turns text into pig latin. Pig latin is a simple text transformation that modifies each word by: \n",
    "\n",
    "moving the first character to the end of each word;\n",
    "\n",
    "then appending the letters \"ay\" to the end of each word. \n",
    "\n",
    "For example, python ends up as ythonpay."
   ]
  },
  {
   "cell_type": "code",
   "execution_count": 2,
   "metadata": {},
   "outputs": [
    {
     "name": "stdout",
     "output_type": "stream",
     "text": [
      "ellohay owhay reaay ouyay\n",
      "rogrammingpay niay ythonpay siay unfay\n"
     ]
    }
   ],
   "source": [
    "def pig_latin(text):\n",
    "  say = \"\"\n",
    "  # Separate the text into words\n",
    "  words = text.split()\n",
    "  for word in words:\n",
    "    # Create the pig latin word and add it to the list\n",
    "    say += word[1:] + word[0] + \"ay\" + \" \"\n",
    "    # Turn the list back into a phrase\n",
    "  return say.strip()\n",
    "    \n",
    "print(pig_latin(\"hello how are you\")) # Should be \"ellohay owhay reaay ouyay\"\n",
    "print(pig_latin(\"programming in python is fun\")) # Should be \"rogrammingpay niay ythonpay siay unfay\""
   ]
  },
  {
   "attachments": {},
   "cell_type": "markdown",
   "metadata": {},
   "source": [
    "Question 5\n",
    "Fill in the blanks to complete the “guest_list” function. The guest_list function reads in a list of tuples with the name, age, and profession of each party guest, and prints the sentence \"Guest is _ years old and works as __.\" for each guest. For example, guest_list(('Ken', 30, \"a Chef\") should print: “Ken is 30 years old and works as a Chef.” "
   ]
  },
  {
   "cell_type": "code",
   "execution_count": 6,
   "metadata": {},
   "outputs": [
    {
     "name": "stdout",
     "output_type": "stream",
     "text": [
      "Ira is 30 years old and works as a Chef.\n",
      "Raj is 35 years old and works as a Lawyer.\n",
      "Maria is 25 years old and works as a Engineer.\n"
     ]
    }
   ],
   "source": [
    "def biography_list(people):\n",
    "    # Iterate over each \"person\" in the given \"people\" list of tuples. \n",
    "    for person in people:\n",
    "\n",
    "        # Separate the 3 items in each tuple into 3 variables:\n",
    "        # \"name\", \"age\", and \"profession\"   \n",
    "        name, age, profession = person \n",
    "\n",
    "        # Format the required sentence and place the 3 variables \n",
    "        # in the correct placeholders using the .format() method.\n",
    "        print(\"{} is {} years old and works as a {}.\".format(name, age, profession))\n",
    "\n",
    "\n",
    "# Call to the function:\n",
    "biography_list([('Ira', 30, 'Chef'), ('Raj', 35, 'Lawyer'), ('Maria', 25, 'Engineer')])\n",
    "\n",
    "# Click Run to submit code\n",
    "\n",
    "# Output should match:\n",
    "# Ken is 30 years old and works as a Chef\n",
    "# Pat is 35 years old and works as a Lawyer\n",
    "# Amanda is 25 years old and works as an Engineer"
   ]
  }
 ],
 "metadata": {
  "kernelspec": {
   "display_name": "Python 3",
   "language": "python",
   "name": "python3"
  },
  "language_info": {
   "codemirror_mode": {
    "name": "ipython",
    "version": 3
   },
   "file_extension": ".py",
   "mimetype": "text/x-python",
   "name": "python",
   "nbconvert_exporter": "python",
   "pygments_lexer": "ipython3",
   "version": "3.9.13"
  },
  "orig_nbformat": 4,
  "vscode": {
   "interpreter": {
    "hash": "eb1d458c27a51e194bc3040070150e342f6a84f9c385ab28c5f222bd4625d412"
   }
  }
 },
 "nbformat": 4,
 "nbformat_minor": 2
}
