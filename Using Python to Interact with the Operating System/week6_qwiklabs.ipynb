{
 "cells": [
  {
   "attachments": {},
   "cell_type": "markdown",
   "metadata": {},
   "source": [
    "This script clears the contents of oldFiles.txt, searches for lines containing \"jane\" in list.txt, and saves the file names into the 'files' variable. Then, it iterates over each file name in the 'files' variable, checks if the file exists in the file system using the test command, and if it does, appends the file name to oldFiles.txt.\n",
    "\n",
    "Remember to save the file by pressing Ctrl+O, then Enter, and Ctrl+X.\n",
    "\n",
    "Make the script executable by running the following command:\n",
    "\n",
    "chmod +x findJane.sh\n",
    "\n",
    "Now, you can run the script by executing:\n",
    "\n",
    "\n",
    "./findJane.sh\n",
    "\n",
    "This will populate the oldFiles.txt file with the names of the files that contain \"jane\" and are present in the file system."
   ]
  },
  {
   "cell_type": "code",
   "execution_count": null,
   "metadata": {},
   "outputs": [],
   "source": [
    "#!/bin/bash\n",
    "\n",
    "# Clear the contents of oldFiles.txt\n",
    "> oldFiles.txt\n",
    "\n",
    "# Search for all lines containing \"jane\" and save the file names into the 'files' variable\n",
    "files=$(grep \"jane\" ../data/list.txt | cut -d' ' -f3)\n",
    "\n",
    "# Iterate over the file names in the 'files' variable\n",
    "for file in $files; do\n",
    "    # Check if the file exists in the file system\n",
    "    if test -e \"$file\"; then\n",
    "        # Append the file name to oldFiles.txt\n",
    "        echo \"$file\" >> oldFiles.txt\n",
    "    fi\n",
    "done\n"
   ]
  },
  {
   "attachments": {},
   "cell_type": "markdown",
   "metadata": {},
   "source": [
    "In this optimized version, we have updated the paths passed to the `subprocess.run()` function to include the \"~/scripts\" directory. The `old_name` and `new_name` variables are appended to the directory path, ensuring that the script renames the files in the correct location.\n",
    "\n",
    "Note the use of `shell=True` as an argument to `subprocess.run()`. This enables the use of the tilde (~) symbol for the home directory expansion.\n",
    "\n",
    "Save the optimized code by pressing Ctrl+O, then Enter, and Ctrl+X.\n",
    "\n",
    "To run the script and rename the files in the \"~/scripts\" directory, use the following command:\n",
    "\n",
    "\n",
    "python3 changeJane.py ~/scripts/oldFiles.txt\n",
    "\n",
    "\n",
    "Ensure that you replace \"oldFiles.txt\" with the actual name of your file containing the old filenames.\n",
    "\n",
    "This optimized version of the code should successfully rename the files located in the \"~/scripts\" directory without any issues."
   ]
  },
  {
   "cell_type": "code",
   "execution_count": null,
   "metadata": {},
   "outputs": [],
   "source": [
    "#!/usr/bin/env python3\n",
    "\n",
    "import sys\n",
    "import subprocess\n",
    "\n",
    "# Get the filename from the command line argument\n",
    "filename = sys.argv[1]\n",
    "\n",
    "# Read the file and rename the files\n",
    "with open(filename, 'r') as file:\n",
    "    for line in file:\n",
    "        old_name = line.strip()\n",
    "        new_name = old_name.replace(\"jane\", \"jdoe\")\n",
    "        subprocess.run([\"mv\", f\"~/scripts/{old_name}\", f\"~/scripts/{new_name}\"], shell=True)\n",
    "\n",
    "# Close the file\n",
    "file.close()\n"
   ]
  }
 ],
 "metadata": {
  "language_info": {
   "name": "python"
  },
  "orig_nbformat": 4
 },
 "nbformat": 4,
 "nbformat_minor": 2
}
