{
 "cells": [
  {
   "cell_type": "code",
   "execution_count": 5,
   "metadata": {},
   "outputs": [
    {
     "name": "stdout",
     "output_type": "stream",
     "text": [
      "Welcome to the chat client!\n",
      "Please enter the IP address and port number of the chat server.\n",
      "\n",
      "\n",
      "Connecting to server...\n"
     ]
    },
    {
     "ename": "TimeoutError",
     "evalue": "[WinError 10060] A connection attempt failed because the connected party did not properly respond after a period of time, or established connection failed because connected host has failed to respond",
     "output_type": "error",
     "traceback": [
      "\u001b[1;31m---------------------------------------------------------------------------\u001b[0m",
      "\u001b[1;31mTimeoutError\u001b[0m                              Traceback (most recent call last)",
      "Cell \u001b[1;32mIn[5], line 34\u001b[0m\n\u001b[0;32m     32\u001b[0m \u001b[39mprint\u001b[39m(\u001b[39m\"\u001b[39m\u001b[39m\\n\u001b[39;00m\u001b[39mConnecting to server...\u001b[39m\u001b[39m\"\u001b[39m)\n\u001b[0;32m     33\u001b[0m client_socket \u001b[39m=\u001b[39m socket\u001b[39m.\u001b[39msocket(socket\u001b[39m.\u001b[39mAF_INET, socket\u001b[39m.\u001b[39mSOCK_STREAM)\n\u001b[1;32m---> 34\u001b[0m client_socket\u001b[39m.\u001b[39;49mconnect((server_ip, server_port))\n\u001b[0;32m     35\u001b[0m \u001b[39mprint\u001b[39m(\u001b[39m\"\u001b[39m\u001b[39mConnected to server.\u001b[39m\u001b[39m\"\u001b[39m)\n\u001b[0;32m     37\u001b[0m \u001b[39m# Start a new thread to receive messages from the server\u001b[39;00m\n",
      "\u001b[1;31mTimeoutError\u001b[0m: [WinError 10060] A connection attempt failed because the connected party did not properly respond after a period of time, or established connection failed because connected host has failed to respond"
     ]
    }
   ],
   "source": [
    "import socket\n",
    "import threading\n",
    "\n",
    "# Define a function to handle incoming messages from the server\n",
    "def receive_messages(sock):\n",
    "    while True:\n",
    "        try:\n",
    "            data = sock.recv(1024)\n",
    "            print(\"\\nServer:\", data.decode())\n",
    "        except:\n",
    "            print(\"\\nDisconnected from server.\")\n",
    "            break\n",
    "\n",
    "# Define a function to handle sending messages to the server\n",
    "def send_message(sock):\n",
    "    while True:\n",
    "        message = input(\"\\nEnter your message: \")\n",
    "        sock.send(message.encode())\n",
    "\n",
    "# Get the IP address and port number of the remote server\n",
    "print(\"Welcome to the chat client!\")\n",
    "print(\"Please enter the IP address and port number of the chat server.\\n\")\n",
    "server_ip = input(\"IP address: \")\n",
    "while True:\n",
    "    try:\n",
    "        server_port = int(input(\"Port number: \"))\n",
    "        break\n",
    "    except ValueError:\n",
    "        print(\"Invalid port number. Please enter a valid integer.\")\n",
    "\n",
    "# Create a socket object and connect to the server\n",
    "print(\"\\nConnecting to server...\")\n",
    "client_socket = socket.socket(socket.AF_INET, socket.SOCK_STREAM)\n",
    "client_socket.connect((server_ip, server_port))\n",
    "print(\"Connected to server.\")\n",
    "\n",
    "# Start a new thread to receive messages from the server\n",
    "receive_thread = threading.Thread(target=receive_messages, args=(client_socket,))\n",
    "receive_thread.start()\n",
    "\n",
    "# Start a new thread to send messages to the server\n",
    "send_thread = threading.Thread(target=send_message, args=(client_socket,))\n",
    "send_thread.start()\n",
    "\n",
    "# Display instructions for using the chat client\n",
    "print(\"\\nYou are now connected to the chat server.\")\n",
    "print(\"To send a message, type your message and press Enter.\")\n",
    "print(\"To disconnect from the server, press Ctrl+C.\\n\")\n"
   ]
  }
 ],
 "metadata": {
  "kernelspec": {
   "display_name": "Python 3",
   "language": "python",
   "name": "python3"
  },
  "language_info": {
   "codemirror_mode": {
    "name": "ipython",
    "version": 3
   },
   "file_extension": ".py",
   "mimetype": "text/x-python",
   "name": "python",
   "nbconvert_exporter": "python",
   "pygments_lexer": "ipython3",
   "version": "3.9.13"
  },
  "orig_nbformat": 4
 },
 "nbformat": 4,
 "nbformat_minor": 2
}
