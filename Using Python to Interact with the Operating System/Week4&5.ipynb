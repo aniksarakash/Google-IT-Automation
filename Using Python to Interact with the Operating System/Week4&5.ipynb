{
 "cells": [
  {
   "attachments": {},
   "cell_type": "markdown",
   "metadata": {},
   "source": [
    "We're using the same syslog, and we want to display the date, time, and process id that's inside the square brackets. We can read each line of the syslog and pass the contents to the show_time_of_pid function. Fill in the gaps to extract the date, time, and process id from the passed line, and return this format: Jul 6 14:01:23 pid:29440. To extract the date, time, and process ID from the passed line and return the specified format, you can use the following code:\n",
    "\n",
    "```python\n",
    "import re\n",
    "\n",
    "def show_time_of_pid(line):\n",
    "    pattern = r\"(\\w{3} \\d{1,2} \\d{2}:\\d{2}:\\d{2}).*?\\[(\\d+)\\]\"\n",
    "    result = re.search(pattern, line)\n",
    "    return \"{} pid:{}\".format(result.group(1), result.group(2))\n",
    "\n",
    "print(show_time_of_pid(\"Jul 6 14:01:23 computer.name CRON[29440]: USER (good_user)\"))  # Jul 6 14:01:23 pid:29440\n",
    "print(show_time_of_pid(\"Jul 6 14:02:08 computer.name jam_tag=psim[29187]: (UUID:006)\"))  # Jul 6 14:02:08 pid:29187\n",
    "print(show_time_of_pid(\"Jul 6 14:02:09 computer.name jam_tag=psim[29187]: (UUID:007)\"))  # Jul 6 14:02:09 pid:29187\n",
    "print(show_time_of_pid(\"Jul 6 14:03:01 computer.name CRON[29440]: USER (naughty_user)\"))  # Jul 6 14:03:01 pid:29440\n",
    "print(show_time_of_pid(\"Jul 6 14:03:40 computer.name cacheclient[29807]: start syncing from \\\"0xDEADBEEF\\\"\"))  # Jul 6 14:03:40 pid:29807\n",
    "print(show_time_of_pid(\"Jul 6 14:04:01 computer.name CRON[29440]: USER (naughty_user)\"))  # Jul 6 14:04:01 pid:29440\n",
    "print(show_time_of_pid(\"Jul 6 14:05:01 computer.name CRON[29440]: USER (naughty_user)\"))  # Jul 6 14:05:01 pid:29440\n",
    "```\n",
    "\n",
    "In the regular expression pattern `r\"(\\w{3} \\d{1,2} \\d{2}:\\d{2}:\\d{2}).*?\\[(\\d+)\\]\"`:\n",
    "\n",
    "- `(\\w{3} \\d{1,2} \\d{2}:\\d{2}:\\d{2})` captures the date and time in the format \"Jul 6 14:01:23\" using `\\w{3}` for three word characters (month abbreviation), `\\d{1,2}` for one or two digits (day), and `\\d{2}:\\d{2}:\\d{2}` for two digits separated by colons (hours, minutes, seconds).\n",
    "- `.*?\\[(\\d+)\\]` matches any characters lazily (`.*?`) until it finds a square bracket `\\[`, and then captures one or more digits `(\\d+)` (the process ID) within the square brackets.\n",
    "\n",
    "The `re.search()` function is used to find the first occurrence of the pattern in the line. Then, `result.group(1)` and `result.group(2)` retrieve the captured groups representing the date and time, and the process ID, respectively. Finally, the formatted string is returned in the specified format."
   ]
  },
  {
   "cell_type": "code",
   "execution_count": 1,
   "metadata": {},
   "outputs": [
    {
     "name": "stdout",
     "output_type": "stream",
     "text": [
      "Jul 6 14:01:23 pid:29440\n",
      "Jul 6 14:02:08 pid:29187\n",
      "Jul 6 14:02:09 pid:29187\n",
      "Jul 6 14:03:01 pid:29440\n",
      "Jul 6 14:03:40 pid:29807\n",
      "Jul 6 14:04:01 pid:29440\n",
      "Jul 6 14:05:01 pid:29440\n"
     ]
    }
   ],
   "source": [
    "import re\n",
    "\n",
    "def show_time_of_pid(line):\n",
    "    pattern = r\"(\\w{3} \\d{1,2} \\d{2}:\\d{2}:\\d{2}).*?\\[(\\d+)\\]\"\n",
    "    result = re.search(pattern, line)\n",
    "    return \"{} pid:{}\".format(result.group(1), result.group(2))\n",
    "\n",
    "print(show_time_of_pid(\"Jul 6 14:01:23 computer.name CRON[29440]: USER (good_user)\"))  # Jul 6 14:01:23 pid:29440\n",
    "print(show_time_of_pid(\"Jul 6 14:02:08 computer.name jam_tag=psim[29187]: (UUID:006)\"))  # Jul 6 14:02:08 pid:29187\n",
    "print(show_time_of_pid(\"Jul 6 14:02:09 computer.name jam_tag=psim[29187]: (UUID:007)\"))  # Jul 6 14:02:09 pid:29187\n",
    "print(show_time_of_pid(\"Jul 6 14:03:01 computer.name CRON[29440]: USER (naughty_user)\"))  # Jul 6 14:03:01 pid:29440\n",
    "print(show_time_of_pid(\"Jul 6 14:03:40 computer.name cacheclient[29807]: start syncing from \\\"0xDEADBEEF\\\"\"))  # Jul 6 14:03:40 pid:29807\n",
    "print(show_time_of_pid(\"Jul 6 14:04:01 computer.name CRON[29440]: USER (naughty_user)\"))  # Jul 6 14:04:01 pid:29440\n",
    "print(show_time_of_pid(\"Jul 6 14:05:01 computer.name CRON[29440]: USER (naughty_user)\"))  # Jul 6 14:05:01 pid:29440\n"
   ]
  },
  {
   "attachments": {},
   "cell_type": "markdown",
   "metadata": {},
   "source": [
    "Qwiklabs"
   ]
  },
  {
   "cell_type": "code",
   "execution_count": null,
   "metadata": {},
   "outputs": [],
   "source": [
    "#!/usr/bin/env python3\n",
    "import sys\n",
    "import os\n",
    "import re\n",
    "def error_search(log_file):\n",
    "  error = input(\"What is the error? \")\n",
    "  returned_errors = []\n",
    "  with open(log_file, mode='r',encoding='UTF-8') as file:\n",
    "    for log in  file.readlines():\n",
    "      error_patterns = [\"error\"]\n",
    "      for i in range(len(error.split(' '))):\n",
    "        error_patterns.append(r\"{}\".format(error.split(' ')[i].lower()))\n",
    "      if all(re.search(error_pattern, log.lower()) for error_pattern in error_patterns):\n",
    "        returned_errors.append(log)\n",
    "    file.close()\n",
    "  return returned_errors\n",
    "  \n",
    "def file_output(returned_errors):\n",
    "  with open(os.path.expanduser('~') + '/data/errors_found.log', 'w') as file:\n",
    "    for error in returned_errors:\n",
    "      file.write(error)\n",
    "    file.close()\n",
    "if __name__ == \"__main__\":\n",
    "  log_file = sys.argv[1]\n",
    "  returned_errors = error_search(log_file)\n",
    "  file_output(returned_errors)\n",
    "  sys.exit(0)"
   ]
  },
  {
   "attachments": {},
   "cell_type": "markdown",
   "metadata": {},
   "source": [
    "Rearrange Name"
   ]
  },
  {
   "cell_type": "code",
   "execution_count": null,
   "metadata": {},
   "outputs": [],
   "source": [
    "#!/usr/bin/env python3\n",
    "import re\n",
    "def rearrange_name (name):\n",
    "    result = re.search(r\"^([\\w .]*), ([\\w .]*)$\", name)\n",
    "    if result is None:\n",
    "        return name\n",
    "    return \"{} {}\".format(result [2], result[1])"
   ]
  },
  {
   "attachments": {},
   "cell_type": "markdown",
   "metadata": {},
   "source": [
    "Rearrange Name Test Case"
   ]
  },
  {
   "cell_type": "code",
   "execution_count": null,
   "metadata": {},
   "outputs": [],
   "source": [
    "#!/usr/bin/env python3\n",
    "from rearrange import rearrange_name\n",
    "import unittest\n",
    "class TestRearrange (unittest. TestCase):\n",
    "    def test_basic(self):\n",
    "        testcase = \"Lovelace, Ada\"\n",
    "        expected = \"Ada Lovelace\"\n",
    "        self.assertEqual (rearrange_name (testcase), expected)\n",
    "    def test_empty(self):\n",
    "        testcase = \"\"\n",
    "        expected = \"\"\n",
    "        self.assertEqual (rearrange_name (testcase), expected)\n",
    "    def test_double_name(self):\n",
    "        testcase = \"Hopper, Grace M.\"\n",
    "        expected = \"Grace M. Hopper\"\n",
    "        self.assertEqual (rearrange_name (testcase), expected)\n",
    "    def test_one_name(self):\n",
    "        testcase = \"Voltaire\"\n",
    "        expected = \"Voltaire\"\n",
    "        self.assertEqual (rearrange_name (testcase), expected)\n",
    "unittest.main()"
   ]
  },
  {
   "attachments": {},
   "cell_type": "markdown",
   "metadata": {},
   "source": [
    "The Try-Except Construct"
   ]
  },
  {
   "cell_type": "code",
   "execution_count": null,
   "metadata": {},
   "outputs": [],
   "source": [
    "#!/usr/bin/env python3\n",
    "\n",
    "def character_frequency (filename):\n",
    "    \"\"\"Counts the frequency of each character in the given file\"\"\"\n",
    "    # First try to open the file\n",
    "    try:\n",
    "        f = open(filename)\n",
    "    except OSError:\n",
    "        return None\n",
    "# Now process the file\n",
    "characters = {}\n",
    "for line in f:\n",
    "    for char in line:\n",
    "        characters [char] = characters.get(char, 0) + 1\n",
    "f.close()\n",
    "return characters"
   ]
  },
  {
   "attachments": {},
   "cell_type": "markdown",
   "metadata": {},
   "source": [
    "Raising Errors"
   ]
  },
  {
   "cell_type": "code",
   "execution_count": null,
   "metadata": {},
   "outputs": [],
   "source": [
    "#!/usr/bin/env python3\n",
    "\n",
    "def validate_user(username, minlen):\n",
    "    assert type(username) == str, \"username must be a string\"\n",
    "    if minlen < 1:\n",
    "        raise ValueError(\"minlen must be at least 1\")\n",
    "    if len(username) < minlen:\n",
    "        return False\n",
    "    if not username.isalnum():\n",
    "        return False\n",
    "    return True"
   ]
  }
 ],
 "metadata": {
  "kernelspec": {
   "display_name": "Python 3",
   "language": "python",
   "name": "python3"
  },
  "language_info": {
   "codemirror_mode": {
    "name": "ipython",
    "version": 3
   },
   "file_extension": ".py",
   "mimetype": "text/x-python",
   "name": "python",
   "nbconvert_exporter": "python",
   "pygments_lexer": "ipython3",
   "version": "3.9.13"
  },
  "orig_nbformat": 4
 },
 "nbformat": 4,
 "nbformat_minor": 2
}
