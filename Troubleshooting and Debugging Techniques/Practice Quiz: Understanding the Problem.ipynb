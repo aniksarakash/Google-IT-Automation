{
 "cells": [
  {
   "attachments": {},
   "cell_type": "markdown",
   "metadata": {},
   "source": [
    "Question 3\n",
    "The compare_strings function is supposed to compare just the alphanumeric content of two strings, ignoring upper vs lower case and punctuation. But something is not working. Fill in the code to try to find the problems, then fix the problems.\n",
    "\n",
    "#The provided compare_strings function aims to compare two strings disregarding case and punctuation. To make it work correctly, we need to ensure that all non-alphanumeric characters are removed and both strings are converted to lower case for comparison.Let's analyze the current function, adding a debug line to print the state of string1 and string2 after processing. The debug line will help us understand if the strings are being processed as expected.\n",
    "This function transforms the strings by converting them to lowercase and removing non-alphanumeric characters. It then prints the resulting strings and compares them. The print statements will show you how each string is processed, allowing you to verify whether the process is working correctly."
   ]
  },
  {
   "cell_type": "code",
   "execution_count": 1,
   "metadata": {},
   "outputs": [
    {
     "name": "stdout",
     "output_type": "stream",
     "text": [
      "After processing:\n",
      "String 1: \"have a great day\"\n",
      "String 2: \"have a great day\"\n",
      "\n",
      "True\n",
      "After processing:\n",
      "String 1: \"its raining again\"\n",
      "String 2: \"its raining again\"\n",
      "\n",
      "True\n",
      "After processing:\n",
      "String 1: \"learn to count 1 2 3\"\n",
      "String 2: \"learn to count one two three\"\n",
      "\n",
      "False\n",
      "After processing:\n",
      "String 1: \"they found some body\"\n",
      "String 2: \"they found somebody\"\n",
      "\n",
      "False\n"
     ]
    }
   ],
   "source": [
    "import re\n",
    "\n",
    "def compare_strings(string1, string2):\n",
    "  # Convert both strings to lowercase and remove leading and trailing blanks\n",
    "  string1 = string1.lower().strip()\n",
    "  string2 = string2.lower().strip()\n",
    "\n",
    "  # Ignore punctuation\n",
    "  punctuation = r\"[^\\w\\s]\"\n",
    "  string1 = re.sub(punctuation, \"\", string1)\n",
    "  string2 = re.sub(punctuation, \"\", string2)\n",
    "\n",
    "  # Debug: Print both strings after processing\n",
    "  print(f'After processing:\\nString 1: \"{string1}\"\\nString 2: \"{string2}\"\\n')\n",
    "\n",
    "  return string1 == string2\n",
    "\n",
    "print(compare_strings(\"Have a Great Day!\", \"Have a great day?\"))  # True\n",
    "print(compare_strings(\"It's raining again.\", \"its raining, again\"))  # True\n",
    "print(compare_strings(\"Learn to count: 1, 2, 3.\", \"Learn to count: one, two, three.\"))  # False\n",
    "print(compare_strings(\"They found some body.\", \"They found somebody.\"))  # False\n"
   ]
  },
  {
   "attachments": {},
   "cell_type": "markdown",
   "metadata": {},
   "source": [
    "The datetime module supplies classes for manipulating dates and times, and contains many types, objects, and methods. You've seen some of them used in the dow function, which returns the day of the week for a specific date. We'll use them again in the next_date function, which takes the date_string parameter in the format of \"year-month-day\", and uses the add_year function to calculate the next year that this date will occur (it's 4 years later for the 29th of February during Leap Year, and 1 year later for all other dates). Then it returns the value in the same format as it receives the date: \"year-month-day\".   \n",
    "\n",
    "Can you find the error in the code? Is it in the next_date function or the add_year function? How can you determine if the add_year function returns what it's supposed to? Add debug lines as necessary to find the problems, then fix the code to work as indicated above.\n",
    "\n",
    "The error lies in the `next_date` function in the line where we convert a datetime object to a string using the strftime method. The correct directives for the year, month and day are `%Y`, `%m`, and `%d`, respectively, not `yyyy`, `mm`, `dd`. \n",
    "\n",
    "To debug the `add_year` function, we can add a print statement just before its return statement to check what it's actually returning.\n",
    "\n",
    "The debug print statement in the `add_year` function will show you what date is being returned by this function, which can help you ensure that it's working correctly."
   ]
  },
  {
   "cell_type": "code",
   "execution_count": 2,
   "metadata": {},
   "outputs": [
    {
     "name": "stdout",
     "output_type": "stream",
     "text": [
      "New date object: 2024-06-16 00:00:00\n",
      "2024-06-16\n",
      "New date object: 2022-01-01 00:00:00\n",
      "2022-01-01\n",
      "New date object: 2024-02-29 00:00:00\n",
      "2024-02-29\n"
     ]
    }
   ],
   "source": [
    "import datetime\n",
    "from datetime import date\n",
    "\n",
    "def add_year(date_obj):\n",
    "  try:\n",
    "    new_date_obj = date_obj.replace(year = date_obj.year + 1)\n",
    "  except ValueError:\n",
    "    # This gets executed when the above method fails, \n",
    "    # which means that we're making a Leap Year calculation\n",
    "    new_date_obj = date_obj.replace(year = date_obj.year + 4)\n",
    "\n",
    "  # DEBUG: Print the new_date_obj\n",
    "  print(f\"New date object: {new_date_obj}\")\n",
    "\n",
    "  return new_date_obj\n",
    "\n",
    "def next_date(date_string):\n",
    "  # Convert the argument from string to date object\n",
    "  date_obj = datetime.datetime.strptime(date_string, r\"%Y-%m-%d\")\n",
    "  next_date_obj = add_year(date_obj)\n",
    "\n",
    "  # Convert the datetime object to string, \n",
    "  # in the format of \"yyyy-mm-dd\"\n",
    "  next_date_string = next_date_obj.strftime(\"%Y-%m-%d\")\n",
    "  return next_date_string\n",
    "\n",
    "today = date.today()  # Get today's date\n",
    "print(next_date(str(today))) \n",
    "# Should return a year from today, unless today is Leap Day\n",
    "\n",
    "print(next_date(\"2021-01-01\")) # Should return 2022-01-01\n",
    "print(next_date(\"2020-02-29\")) # Should return 2024-02-29\n"
   ]
  }
 ],
 "metadata": {
  "kernelspec": {
   "display_name": "Python 3",
   "language": "python",
   "name": "python3"
  },
  "language_info": {
   "codemirror_mode": {
    "name": "ipython",
    "version": 3
   },
   "file_extension": ".py",
   "mimetype": "text/x-python",
   "name": "python",
   "nbconvert_exporter": "python",
   "pygments_lexer": "ipython3",
   "version": "3.9.13"
  },
  "orig_nbformat": 4
 },
 "nbformat": 4,
 "nbformat_minor": 2
}
