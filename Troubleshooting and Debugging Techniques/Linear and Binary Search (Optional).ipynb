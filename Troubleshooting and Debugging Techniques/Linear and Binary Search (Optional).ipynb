{
 "cells": [
  {
   "cell_type": "code",
   "execution_count": null,
   "metadata": {},
   "outputs": [],
   "source": [
    "def linear_search(list, key):\n",
    "    \"\"\"If key is in the list returns its position in the list,\n",
    "       otherwise returns -1.\"\"\"\n",
    "    for i, item in enumerate(list):\n",
    "        if item == key:\n",
    "            return i\n",
    "    return -1\n"
   ]
  },
  {
   "cell_type": "code",
   "execution_count": null,
   "metadata": {},
   "outputs": [],
   "source": [
    "def binary_search(list, key):\n",
    "    \"\"\"Returns the position of key in the list if found, -1 otherwise.\n",
    "\n",
    "    List must be sorted.\n",
    "    \"\"\"\n",
    "    left = 0\n",
    "    right = len(list) - 1\n",
    "    while left <= right:\n",
    "        middle = (left + right) // 2\n",
    "        \n",
    "        if list[middle] == key:\n",
    "            return middle\n",
    "        if list[middle] > key:\n",
    "            right = middle - 1\n",
    "        if list[middle] < key:\n",
    "            left = middle + 1\n",
    "    return -1\n"
   ]
  }
 ],
 "metadata": {
  "language_info": {
   "name": "python"
  },
  "orig_nbformat": 4
 },
 "nbformat": 4,
 "nbformat_minor": 2
}
