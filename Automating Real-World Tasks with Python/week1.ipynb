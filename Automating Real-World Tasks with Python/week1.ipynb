{
 "cells": [
  {
   "attachments": {},
   "cell_type": "markdown",
   "metadata": {},
   "source": [
    "Google IT Automation Course 6 Week 1\n",
    "\n",
    "Qwiklabs Assessment: Process Text Files with Python Dictionaries and Upload to Running Web Service\n",
    "\n",
    "Introduction:\n",
    "You’re working at a company that sells second-hand cars. Your company constantly collects feedback in the form of customer reviews. Your manager asks you to take those reviews (saved as .txt files) and display them on your company’s website. To do this, you’ll need to write a script to convert those .txt files and process them into Python dictionaries, then upload the data onto your company’s website (currently using Django).\n",
    "\n",
    "What you’ll do\n",
    "Use the Python OS module to process a directory of text files Manage information stored in Python dictionaries Use the Python requests module to upload content to a running Web service Understand basic operations for Python requests like GET and POST methods You'll have 90 minutes to complete this lab."
   ]
  },
  {
   "cell_type": "code",
   "execution_count": null,
   "metadata": {},
   "outputs": [],
   "source": [
    "#!/usr/bin/env python3\n",
    "\n",
    "import os\n",
    "from PIL import Image\n",
    "\n",
    "# Source folder path\n",
    "SOURCE_FOLDER_PATH = '/home/student-02-ec05a121dd97/images'\n",
    "# Output folder path\n",
    "OUTPUT_FOLDER_PATH = '/opt/icons'\n",
    "\n",
    "# Check if the output directory exists and if not, create it\n",
    "if not os.path.exists(OUTPUT_FOLDER_PATH):\n",
    "    os.makedirs(OUTPUT_FOLDER_PATH)\n",
    "\n",
    "print(f\"Checking files in {SOURCE_FOLDER_PATH}...\")\n",
    "\n",
    "# Iterate through each file in the source folder\n",
    "for file_name in os.listdir(SOURCE_FOLDER_PATH):\n",
    "    # Skip directories\n",
    "    if os.path.isdir(os.path.join(SOURCE_FOLDER_PATH, file_name)):\n",
    "        continue\n",
    "\n",
    "    print(f\"Processing {file_name}...\")\n",
    "\n",
    "    # Construct full file path\n",
    "    source_file_path = os.path.join(SOURCE_FOLDER_PATH, file_name)\n",
    "\n",
    "    # Open image file\n",
    "    img = Image.open(source_file_path)\n",
    "\n",
    "    # If the image mode is not 'RGB', convert it to 'RGB'\n",
    "    if img.mode != 'RGB':\n",
    "        img = img.convert('RGB')\n",
    "\n",
    "    # Rotate the image 90° clockwise\n",
    "    img = img.rotate(-90)\n",
    "\n",
    "    # Resize the image from 192x192 to 128x128\n",
    "    img = img.resize((128, 128))\n",
    "\n",
    "    # Construct destination file path\n",
    "    file_base_name, _ = os.path.splitext(file_name)\n",
    "    dest_file_path = os.path.join(OUTPUT_FOLDER_PATH, file_base_name + '.jpeg')\n",
    "\n",
    "    # Save the image to a new folder in .jpeg format\n",
    "    img.save(dest_file_path, 'JPEG')\n",
    "\n",
    "    print(f\"Saved converted image as {dest_file_path}\")\n"
   ]
  }
 ],
 "metadata": {
  "language_info": {
   "name": "python"
  },
  "orig_nbformat": 4
 },
 "nbformat": 4,
 "nbformat_minor": 2
}
