{
 "cells": [
  {
   "attachments": {},
   "cell_type": "markdown",
   "metadata": {},
   "source": [
    "Qwiklabs Assessment: Process Text Files with Python Dictionaries and Upload to Running Web Service\n",
    "\n",
    "Remember to replace \"http://corpweb-external-IP/feedback/\" with the actual IP address.\n",
    "\n",
    "This script follows the structure you provided, it:\n",
    "\n",
    "Lists all .txt files under /data/feedback directory.\n",
    "Creates a dictionary for each feedback file with keys being \"title\", \"name\", \"date\", \"feedback\" and respective values from the file.\n",
    "Makes a POST request to your Django REST API using requests.post().\n",
    "Checks if the response status code is 201 (which indicates success), if not, it prints the error message and the response body to help you debug.\n",
    "\n",
    "The script should now follow the structure:\n",
    "\n",
    "List all .txt files under /data/feedback directory that contains the actual feedback to be displayed on the company's website.\n",
    "\n",
    "Hint: Use os.listdir() method for this, which returns a list of all files and directories in the specified path.\n",
    "You should now have a list that contains all of the feedback files from the path /data/feedback. Traverse over each file and, from the contents of these text files, create a dictionary by keeping title, name, date, and feedback as keys for the content value, respectively.\n",
    "\n",
    "Now, you need to have a dictionary with keys and their respective values (content from feedback files). This will be uploaded through the Django REST API.\n",
    "\n",
    "Use the Python requests module to post the dictionary to the company's website. Use the request.post() method to make a POST request to http://<corpweb-external-IP>/feedback. Replace <corpweb-external-IP> with corpweb's external IP address.\n",
    "\n",
    "Make sure an error message isn't returned. You can print the status_code and text of the response objects to check out what's going on. You can also use the response status_code 201 for created success status response code that indicates the request has succeeded. "
   ]
  },
  {
   "cell_type": "code",
   "execution_count": null,
   "metadata": {},
   "outputs": [],
   "source": [
    "#!/usr/bin/env python3\n",
    "import os\n",
    "import requests\n",
    "\n",
    "# set source dir for feedback file:\n",
    "src_dir = \"/data/feedback/\"\n",
    "\n",
    "# capture list of .txt files:\n",
    "files = [f for f in os.listdir(src_dir) if f.endswith('.txt')]\n",
    "\n",
    "# function to read file lines into list:\n",
    "def readlines(file):\n",
    "    with open(src_dir + file) as f:\n",
    "        lines = f.read().splitlines()\n",
    "    return lines\n",
    "\n",
    "# load feedback entries into dictionary:\n",
    "feedback = []\n",
    "keys = [\"title\", \"name\", \"date\", \"feedback\"]\n",
    "for file in files:\n",
    "    lines = readlines(file)\n",
    "    feedback.append(dict(zip(keys, lines)))\n",
    "\n",
    "# set host url:\n",
    "url = \"http://34.68.91.18/feedback/\" \n",
    "\n",
    "# post feedback entries:\n",
    "for entry in feedback:\n",
    "    response = requests.post(url, data=entry)\n",
    "    if response.status_code == 201: # Created success status response code.\n",
    "        print(\"loaded entry\")\n",
    "    else:\n",
    "        print(f\"load entry error: {response.status_code}, response: {response.text}\")\n"
   ]
  }
 ],
 "metadata": {
  "language_info": {
   "name": "python"
  },
  "orig_nbformat": 4
 },
 "nbformat": 4,
 "nbformat_minor": 2
}
